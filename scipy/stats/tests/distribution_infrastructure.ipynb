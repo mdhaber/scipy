{
 "cells": [
  {
   "cell_type": "markdown",
   "source": [
    "## Random Variable Infrastructure\n",
    "### Basics"
   ],
   "metadata": {
    "collapsed": false
   },
   "id": "6cd8eb4e9d719430"
  },
  {
   "cell_type": "markdown",
   "source": [
    "Distributions (or, more accurately, distribution families) are classes named according to `CamelCase` conventions. They must be instantiated before use, with parameters passed as keyword-only arguments.\n",
    "*Instances* of the distribution classes can be thought of as random variables, which are commonly denoted in mathematics using capital letters."
   ],
   "metadata": {
    "collapsed": false
   },
   "id": "87941d07dd092479"
  },
  {
   "cell_type": "code",
   "execution_count": 1,
   "outputs": [
    {
     "data": {
      "text/plain": "LogUniform(a=1.0, b=2.0)"
     },
     "execution_count": 1,
     "metadata": {},
     "output_type": "execute_result"
    }
   ],
   "source": [
    "from scipy import stats\n",
    "X = stats.LogUniform(a=1, b=2)\n",
    "X"
   ],
   "metadata": {
    "collapsed": false,
    "ExecuteTime": {
     "end_time": "2024-04-22T17:08:33.189599400Z",
     "start_time": "2024-04-22T17:08:31.296569800Z"
    }
   },
   "id": "68dce64c0d289032"
  },
  {
   "cell_type": "code",
   "outputs": [
    {
     "data": {
      "text/plain": "(1.0, 2.0)"
     },
     "execution_count": 2,
     "metadata": {},
     "output_type": "execute_result"
    }
   ],
   "source": [
    "X.support()"
   ],
   "metadata": {
    "collapsed": false,
    "ExecuteTime": {
     "end_time": "2024-04-22T17:08:33.194142200Z",
     "start_time": "2024-04-22T17:08:33.189599400Z"
    }
   },
   "id": "e37f7af9ccb122ad",
   "execution_count": 2
  },
  {
   "cell_type": "markdown",
   "source": [
    "Distributions can support multiple parameterizations, resolving requests like [gh-4538](https://github.com/scipy/scipy/issues/4538). For instance, it is also natural to parameterize the log-uniform distribution using the logarithms of the support endpoints. (If a log-uniform random variable is supported on $[a, b]$, its logarithm follows a uniform distribution with support $[\\log(a), \\log(b)$].)"
   ],
   "metadata": {
    "collapsed": false
   },
   "id": "e4eff6e9cd1df13b"
  },
  {
   "cell_type": "code",
   "execution_count": 3,
   "outputs": [
    {
     "data": {
      "text/plain": "LogUniform(log_a=0.0, log_b=0.6931471805599453)"
     },
     "execution_count": 3,
     "metadata": {},
     "output_type": "execute_result"
    }
   ],
   "source": [
    "import numpy as np\n",
    "Y = stats.LogUniform(log_a=np.log(1), log_b=np.log(2))\n",
    "Y"
   ],
   "metadata": {
    "collapsed": false,
    "ExecuteTime": {
     "end_time": "2024-04-22T17:08:33.212286500Z",
     "start_time": "2024-04-22T17:08:33.192147600Z"
    }
   },
   "id": "627823ded06e451b"
  },
  {
   "cell_type": "markdown",
   "source": [
    "After being defined, these two random variables are essentially equivalent. As a weak example:"
   ],
   "metadata": {
    "collapsed": false
   },
   "id": "77bdbf4334f7d678"
  },
  {
   "cell_type": "code",
   "outputs": [
    {
     "data": {
      "text/plain": "True"
     },
     "execution_count": 4,
     "metadata": {},
     "output_type": "execute_result"
    }
   ],
   "source": [
    "X.support() == Y.support()"
   ],
   "metadata": {
    "collapsed": false,
    "ExecuteTime": {
     "end_time": "2024-04-22T17:08:33.299604200Z",
     "start_time": "2024-04-22T17:08:33.203381100Z"
    }
   },
   "id": "719ba8a891f3284e",
   "execution_count": 4
  },
  {
   "cell_type": "markdown",
   "source": [
    "All parameters of the distribution underlying the random variable are available as attributes."
   ],
   "metadata": {
    "collapsed": false
   },
   "id": "8a96cc18cc79a47b"
  },
  {
   "cell_type": "code",
   "execution_count": 5,
   "outputs": [
    {
     "data": {
      "text/plain": "(1.0, 2.0, 0.0, 0.6931471805599453)"
     },
     "execution_count": 5,
     "metadata": {},
     "output_type": "execute_result"
    }
   ],
   "source": [
    "X.a, X.b, X.log_a, X.log_b"
   ],
   "metadata": {
    "collapsed": false,
    "ExecuteTime": {
     "end_time": "2024-04-22T17:08:33.327154900Z",
     "start_time": "2024-04-22T17:08:33.210007300Z"
    }
   },
   "id": "327a994cafcb5a10"
  },
  {
   "cell_type": "markdown",
   "source": [
    "Currently, distribution parameters are not intended to be changed, since the additional overhead of instantiating a new random variable is small. Nonetheless, support for modification of parameters is one of many planned enhancements."
   ],
   "metadata": {
    "collapsed": false
   },
   "id": "e6966cf208cd0df8"
  },
  {
   "cell_type": "markdown",
   "source": [
    "### Defining a distribution"
   ],
   "metadata": {
    "collapsed": false
   },
   "id": "619a3e13b6f8532b"
  },
  {
   "cell_type": "markdown",
   "source": [
    "Minimal information is needed to fully define a distribution class. For example, a class representing a uniform distribution parameterized by the lower and upper ends of the support might look like this."
   ],
   "metadata": {
    "collapsed": false
   },
   "id": "aa6ab0e386c252ff"
  },
  {
   "cell_type": "code",
   "outputs": [],
   "source": [
    "from scipy.stats._distribution_infrastructure import (ContinuousDistribution, _RealDomain,\n",
    "                                                      _RealParameter, _Parameterization, oo)\n",
    "\n",
    "class UniformDistribution(ContinuousDistribution):\n",
    "    _a_param = _RealParameter('a', domain=_RealDomain(endpoints=(-oo, oo)))\n",
    "    _b_param = _RealParameter('b', domain=_RealDomain(endpoints=('a', oo)))\n",
    "    _x_param = _RealParameter('x', domain=_RealDomain(endpoints=('a', 'b'), inclusive=(True, True)))\n",
    "\n",
    "    _parameterizations = [_Parameterization(_a_param, _b_param)]\n",
    "    _variable = _x_param\n",
    "\n",
    "    def _pdf_formula(self, x, *, a, b, **kwargs):\n",
    "        return np.ones_like(x)/(b-a)"
   ],
   "metadata": {
    "collapsed": false,
    "ExecuteTime": {
     "end_time": "2024-04-22T17:08:33.332222600Z",
     "start_time": "2024-04-22T17:08:33.215279900Z"
    }
   },
   "id": "8190ae7352ec4585",
   "execution_count": 6
  },
  {
   "cell_type": "markdown",
   "source": [
    "The infrastructure automatically validates numerical distribution parameters and method arguments based on their abstract definitions."
   ],
   "metadata": {
    "collapsed": false
   },
   "id": "8771cabee5cd40e9"
  },
  {
   "cell_type": "code",
   "outputs": [],
   "source": [
    "a, b = 1, 3\n",
    "X = UniformDistribution(a=a, b=b)"
   ],
   "metadata": {
    "collapsed": false,
    "ExecuteTime": {
     "end_time": "2024-04-22T17:08:33.352169900Z",
     "start_time": "2024-04-22T17:08:33.221169300Z"
    }
   },
   "id": "47039d50589e64ae",
   "execution_count": 7
  },
  {
   "cell_type": "code",
   "outputs": [
    {
     "data": {
      "text/plain": "(1.0, 3.0)"
     },
     "execution_count": 8,
     "metadata": {},
     "output_type": "execute_result"
    }
   ],
   "source": [
    "X.support()"
   ],
   "metadata": {
    "collapsed": false,
    "ExecuteTime": {
     "end_time": "2024-04-22T17:08:33.354164400Z",
     "start_time": "2024-04-22T17:08:33.251874900Z"
    }
   },
   "id": "971788621b427159",
   "execution_count": 8
  },
  {
   "cell_type": "code",
   "outputs": [
    {
     "data": {
      "text/plain": "(array([0.5, 1. , 1.5, 2. , 2.5, 3. , 3.5]),\n array([0. , 0.5, 0.5, 0.5, 0.5, 0.5, 0. ]))"
     },
     "execution_count": 9,
     "metadata": {},
     "output_type": "execute_result"
    }
   ],
   "source": [
    "x = np.arange(a - 0.5, b + 0.51, 0.5)\n",
    "x, X.pdf(x)"
   ],
   "metadata": {
    "collapsed": false,
    "ExecuteTime": {
     "end_time": "2024-04-22T17:08:33.356158900Z",
     "start_time": "2024-04-22T17:08:33.259367200Z"
    }
   },
   "id": "82385f400411b21c",
   "execution_count": 9
  },
  {
   "cell_type": "code",
   "outputs": [
    {
     "data": {
      "text/plain": "array([0.  , 0.  , 0.25, 0.5 , 0.75, 1.  , 1.  ])"
     },
     "execution_count": 10,
     "metadata": {},
     "output_type": "execute_result"
    }
   ],
   "source": [
    "X.cdf(x)"
   ],
   "metadata": {
    "collapsed": false,
    "ExecuteTime": {
     "end_time": "2024-04-22T17:08:33.372116300Z",
     "start_time": "2024-04-22T17:08:33.265021400Z"
    }
   },
   "id": "a594ed5b72b4eb54",
   "execution_count": 10
  },
  {
   "cell_type": "code",
   "outputs": [
    {
     "data": {
      "text/plain": "array([nan,  2., nan])"
     },
     "execution_count": 11,
     "metadata": {},
     "output_type": "execute_result"
    }
   ],
   "source": [
    "X.icdf([-0.5, 0.5, 1.5])  # there are no numbers for which the CDF is negative or greater than 1"
   ],
   "metadata": {
    "collapsed": false,
    "ExecuteTime": {
     "end_time": "2024-04-22T17:08:33.478830600Z",
     "start_time": "2024-04-22T17:08:33.271962100Z"
    }
   },
   "id": "6473e6c2a92ae04b",
   "execution_count": 11
  },
  {
   "cell_type": "markdown",
   "source": [
    "Above, note that the domain of the argument `x` was set to be inclusive, so the PDF *at* the limits of the support was `0.5` rather than `0.0`. On the other hand, the domains of parameters `a` and `b` are exclusive (by default). Rather than raising errors, out-of-domain shapes and NaNs result in methods returning NaNs. This allows for valid calculations to proceed normally."
   ],
   "metadata": {
    "collapsed": false
   },
   "id": "dad23b5fd1ea29b6"
  },
  {
   "cell_type": "code",
   "outputs": [
    {
     "data": {
      "text/plain": "array([[nan, 0. , nan],\n       [nan, 0.5, nan],\n       [nan, 0.5, nan],\n       [nan, 0.5, nan],\n       [nan, 0.5, nan],\n       [nan, 0.5, nan],\n       [nan, 0. , nan]])"
     },
     "execution_count": 12,
     "metadata": {},
     "output_type": "execute_result"
    }
   ],
   "source": [
    "X = UniformDistribution(a=[b, a, np.nan], \n",
    "                        b=[a, b, np.nan])  # recall that the domain of b is (a, oo)\n",
    "X.pdf(x[:, np.newaxis])"
   ],
   "metadata": {
    "collapsed": false,
    "ExecuteTime": {
     "end_time": "2024-04-22T17:08:33.480825Z",
     "start_time": "2024-04-22T17:08:33.283389200Z"
    }
   },
   "id": "f6c2ca9eae94a9a",
   "execution_count": 12
  },
  {
   "cell_type": "markdown",
   "source": [
    "<a id='Transformations'></a>\n",
    "### Transformations\n",
    "\n",
    "Transformations can be applied to random variables. For instance, shifted and scaled versions can be created using `ShiftedScaledDistribution`."
   ],
   "metadata": {
    "collapsed": false
   },
   "id": "3ea488862163cb9b"
  },
  {
   "cell_type": "code",
   "execution_count": 13,
   "outputs": [],
   "source": [
    "x = 1.\n",
    "loc = np.asarray([1, 2, 3])\n",
    "scale = np.asarray([2, 3])[:, np.newaxis]\n",
    "X = stats.Normal()\n",
    "Y = stats.ShiftedScaledDistribution(X, loc=loc, scale=scale)\n",
    "np.testing.assert_equal(Y.cdf(x), X.cdf((x-loc)/scale))"
   ],
   "metadata": {
    "collapsed": false,
    "ExecuteTime": {
     "end_time": "2024-04-22T17:08:33.503764100Z",
     "start_time": "2024-04-22T17:08:33.287133600Z"
    }
   },
   "id": "377b44afd3b579e1"
  },
  {
   "cell_type": "markdown",
   "source": [
    " There are several advantages of this architecture compared to building transformations directly into the `ContinuousDistribution` class:\n",
    "- It allows distributions to use common parameterizations. By contrast, `rv_continuous` requires parameterizations to consider `loc` and `scale` or risk overparameterization (e.g. [gh-14716](https://github.com/scipy/scipy/issues/14716)). For example,\n",
    "  - `stats.uniform` does not allow parameterization with the left and right support endpoints; it only accepts `loc` and `scale`.\n",
    "  - `stats.loguniform` accepts the left and right support endpoints as shape parameters `a` and `b`; consequently, `a`, `b`, and `scale` are not independent parameters.\n",
    "- Any overhead associated with a transformation is avoided unless the transformation is intentionally applied. (Although this is possible to achieve even if the transformation capabilities are built into the class, it may require special care.)\n",
    "- It is highly extensible. For instance, transformations can also be used to generically define:\n",
    "  - truncated distributions\n",
    "  - half/double distributions\n",
    "  - wrapped distributions\n",
    "  - order statistic distributions\n",
    "  - $\\log$/$\\exp$ transformed distributions\n",
    "\n",
    "  and these transformations can be applied in any order.\n",
    "- It avoids common pitfalls when fitting distributions to data. For instance, in the current infrastructure:\n",
    "  - Users often forget to fix the location of distributions which almost always have fixed locations. This often results in poor fits or unexpected values of fit parameters.\n",
    "  - It is impossible to fix the truncation points of truncated distributions because the loc-scale transformation is applied *after* the shape parameters truncate the support. It is more naturable to use the distribution if the these transformations are applied in the opposite order."
   ],
   "metadata": {
    "collapsed": false
   },
   "id": "a2cd087763b265c1"
  },
  {
   "cell_type": "markdown",
   "source": [
    "Shifted/scaled distributions support basic arithmetic operations with arrays."
   ],
   "metadata": {
    "collapsed": false
   },
   "id": "e9dab342c70b4d00"
  },
  {
   "cell_type": "code",
   "execution_count": 14,
   "outputs": [
    {
     "data": {
      "text/plain": "StandardNormal(loc, scale, shape=(2, 3))"
     },
     "execution_count": 14,
     "metadata": {},
     "output_type": "execute_result"
    }
   ],
   "source": [
    "Y = stats.ShiftedScaledDistribution(X, loc=0, scale=1)\n",
    "Y = Y*scale + loc\n",
    "Y"
   ],
   "metadata": {
    "collapsed": false,
    "ExecuteTime": {
     "end_time": "2024-04-22T17:08:33.507753600Z",
     "start_time": "2024-04-22T17:08:33.301600600Z"
    }
   },
   "id": "595075985b8c7832"
  },
  {
   "cell_type": "code",
   "execution_count": 15,
   "outputs": [
    {
     "data": {
      "text/plain": "(array([[1., 2., 3.],\n        [1., 2., 3.]]),\n array([[2., 2., 2.],\n        [3., 3., 3.]]))"
     },
     "execution_count": 15,
     "metadata": {},
     "output_type": "execute_result"
    }
   ],
   "source": [
    "Y.loc, Y.scale"
   ],
   "metadata": {
    "collapsed": false,
    "ExecuteTime": {
     "end_time": "2024-04-22T17:08:33.522713400Z",
     "start_time": "2024-04-22T17:08:33.309124500Z"
    }
   },
   "id": "a2d7011ee52e8bd9"
  },
  {
   "cell_type": "code",
   "execution_count": 16,
   "outputs": [],
   "source": [
    "np.testing.assert_equal(Y.cdf(x), X.cdf((x-loc)/scale))"
   ],
   "metadata": {
    "collapsed": false,
    "ExecuteTime": {
     "end_time": "2024-04-22T17:08:33.524707700Z",
     "start_time": "2024-04-22T17:08:33.313539200Z"
    }
   },
   "id": "8d97ddc02f1cc5dd"
  },
  {
   "cell_type": "markdown",
   "source": [
    "Negative scale (multiplication by negative values) is supported. This eliminates the need to have separate flipped distributions (e.g. `gumbel_l`/`gumbel_r`)."
   ],
   "metadata": {
    "collapsed": false
   },
   "id": "1d4e659c852eea59"
  },
  {
   "cell_type": "code",
   "execution_count": 17,
   "outputs": [
    {
     "data": {
      "text/plain": "((1.0, 2.0), (-2.0, -1.0))"
     },
     "execution_count": 17,
     "metadata": {},
     "output_type": "execute_result"
    }
   ],
   "source": [
    "X = stats.LogUniform(a=1, b=2)\n",
    "Y = stats.ShiftedScaledDistribution(X, loc=0, scale=-1)\n",
    "X.support(), Y.support()"
   ],
   "metadata": {
    "collapsed": false,
    "ExecuteTime": {
     "end_time": "2024-04-22T17:08:33.526702200Z",
     "start_time": "2024-04-22T17:08:33.319094400Z"
    }
   },
   "id": "6f10caa3f86e68c8"
  },
  {
   "cell_type": "markdown",
   "source": [
    "### Performance\n",
    "#### Overhead\n",
    "I've been careful to reduce overhead where possible."
   ],
   "metadata": {
    "collapsed": false
   },
   "id": "7d0155ff218ac194"
  },
  {
   "cell_type": "code",
   "outputs": [
    {
     "name": "stdout",
     "output_type": "stream",
     "text": [
      "6.28 µs ± 77.2 ns per loop (mean ± std. dev. of 7 runs, 100,000 loops each)\n"
     ]
    }
   ],
   "source": [
    "x = 1.\n",
    "X = stats.Normal()\n",
    "%timeit X.pdf(x)"
   ],
   "metadata": {
    "collapsed": false,
    "ExecuteTime": {
     "end_time": "2024-04-22T17:08:38.442139800Z",
     "start_time": "2024-04-22T17:08:33.325160100Z"
    }
   },
   "id": "ac9934d57874eb09",
   "execution_count": 18
  },
  {
   "cell_type": "code",
   "outputs": [
    {
     "name": "stdout",
     "output_type": "stream",
     "text": [
      "79 µs ± 793 ns per loop (mean ± std. dev. of 7 runs, 10,000 loops each)\n"
     ]
    }
   ],
   "source": [
    "dist = stats.norm()  # old infrastructure\n",
    "%timeit dist.pdf(x)"
   ],
   "metadata": {
    "collapsed": false,
    "ExecuteTime": {
     "end_time": "2024-04-22T17:08:44.897396Z",
     "start_time": "2024-04-22T17:08:38.442139800Z"
    }
   },
   "id": "8f37cf4d237c9e2e",
   "execution_count": 19
  },
  {
   "cell_type": "markdown",
   "source": [
    "Even though these are meant to be instantiated once and used many times, instantiation followed by use is still usually faster than the old infrastructure."
   ],
   "metadata": {
    "collapsed": false
   },
   "id": "608943624453549e"
  },
  {
   "cell_type": "code",
   "outputs": [
    {
     "name": "stdout",
     "output_type": "stream",
     "text": [
      "22.2 µs ± 1.96 µs per loop (mean ± std. dev. of 7 runs, 10,000 loops each)\n"
     ]
    }
   ],
   "source": [
    "%timeit stats.Normal().pdf(x)  # new infrastructure"
   ],
   "metadata": {
    "collapsed": false,
    "ExecuteTime": {
     "end_time": "2024-04-22T17:08:46.780103300Z",
     "start_time": "2024-04-22T17:08:44.896398100Z"
    }
   },
   "id": "ffb9f7f068ce8184",
   "execution_count": 20
  },
  {
   "cell_type": "code",
   "outputs": [
    {
     "name": "stdout",
     "output_type": "stream",
     "text": [
      "77.1 µs ± 772 ns per loop (mean ± std. dev. of 7 runs, 10,000 loops each)\n"
     ]
    }
   ],
   "source": [
    "%timeit stats.norm.pdf(x)  # old infrastructure"
   ],
   "metadata": {
    "collapsed": false,
    "ExecuteTime": {
     "end_time": "2024-04-22T17:08:53.073869600Z",
     "start_time": "2024-04-22T17:08:46.780103300Z"
    }
   },
   "id": "f2466b855f766756",
   "execution_count": 21
  },
  {
   "cell_type": "markdown",
   "source": [
    "If there's still too much overhead, the user can disable input validation."
   ],
   "metadata": {
    "collapsed": false
   },
   "id": "2367e2cb3ae7785f"
  },
  {
   "cell_type": "code",
   "outputs": [
    {
     "name": "stdout",
     "output_type": "stream",
     "text": [
      "2.23 µs ± 11.9 ns per loop (mean ± std. dev. of 7 runs, 100,000 loops each)\n"
     ]
    }
   ],
   "source": [
    "X = stats.Normal(iv_policy='skip_all')\n",
    "%timeit X.pdf(x)"
   ],
   "metadata": {
    "collapsed": false,
    "ExecuteTime": {
     "end_time": "2024-04-22T17:08:54.894548300Z",
     "start_time": "2024-04-22T17:08:53.073869600Z"
    }
   },
   "id": "eb1dc88d984f5365",
   "execution_count": 22
  },
  {
   "cell_type": "code",
   "outputs": [
    {
     "name": "stdout",
     "output_type": "stream",
     "text": [
      "12.8 µs ± 141 ns per loop (mean ± std. dev. of 7 runs, 100,000 loops each)\n"
     ]
    }
   ],
   "source": [
    "%timeit stats.Normal(iv_policy='skip_all').pdf(x)"
   ],
   "metadata": {
    "collapsed": false,
    "ExecuteTime": {
     "end_time": "2024-04-22T17:09:06.405503100Z",
     "start_time": "2024-04-22T17:08:54.893550900Z"
    }
   },
   "id": "a100f2519bbd6b6a",
   "execution_count": 23
  },
  {
   "cell_type": "markdown",
   "source": [
    "Overhead increases when shape parameters are invalid, need to be broadcast, or need to be converted to a floating point type for calculations. In these cases, there has been substantial effort to keep the overhead low and provide performance comparable to or better than `rv_continuous`."
   ],
   "metadata": {
    "collapsed": false
   },
   "id": "db8afc8c5161b31a"
  },
  {
   "cell_type": "markdown",
   "source": [
    "#### Numerical calculations\n",
    "Another important aspect of performance is that of methods for which analytical formulas are not available. For example, the Gauss hypergeometric distribution can be defined as follows."
   ],
   "metadata": {
    "collapsed": false
   },
   "id": "1c36e2c0e3865d32"
  },
  {
   "cell_type": "code",
   "outputs": [],
   "source": [
    "from scipy.stats._distribution_infrastructure import (ContinuousDistribution, _RealDomain,\n",
    "                                                      _RealParameter, _Parameterization, oo)\n",
    "from scipy import special\n",
    "\n",
    "class GaussHyper(ContinuousDistribution):\n",
    "    \"\"\"Gauss hypergeometric distribution\"\"\"\n",
    "\n",
    "    _a_param = _RealParameter('a', domain=_RealDomain(endpoints=(0, oo)))\n",
    "    _b_param = _RealParameter('b', domain=_RealDomain(endpoints=(0, oo)))\n",
    "    _c_param = _RealParameter('c', domain=_RealDomain(endpoints=(-oo, oo)))\n",
    "    _z_param = _RealParameter('z', domain=_RealDomain(endpoints=(-1, oo)))\n",
    "    _x_param = _RealParameter('x', domain=_RealDomain(endpoints=(0, 1), inclusive=(True, True)))\n",
    "\n",
    "    _parameterizations = [_Parameterization(_a_param, _b_param, _c_param, _z_param)]\n",
    "    _variable = _x_param\n",
    "\n",
    "    def _pdf_formula(self, x, *, a, b, c, z, **kwargs):\n",
    "        Cinv = special.gamma(a) * special.gamma(b) / special.gamma(a + b) * special.hyp2f1(c, a, a + b, -z)\n",
    "        return 1.0 / Cinv * x ** (a - 1.0) * (1.0 - x) ** (b - 1.0) / (1.0 + z * x) ** c\n",
    "\n",
    "a, b, c, z = 1.5, 2.5, 2, 0\n",
    "X = GaussHyper(a=a, b=b, c=c, z=z)\n",
    "x = 0.5"
   ],
   "metadata": {
    "collapsed": false,
    "ExecuteTime": {
     "end_time": "2024-04-22T17:09:06.411270500Z",
     "start_time": "2024-04-22T17:09:06.408495800Z"
    }
   },
   "id": "14fb96ede602dfb1",
   "execution_count": 24
  },
  {
   "cell_type": "markdown",
   "source": [
    "For scalar shapes and argument, performance of the new and old infrastructures are comparable."
   ],
   "metadata": {
    "collapsed": false
   },
   "id": "69b73e50c00a6800"
  },
  {
   "cell_type": "code",
   "outputs": [
    {
     "name": "stdout",
     "output_type": "stream",
     "text": [
      "862 µs ± 2.19 µs per loop (mean ± std. dev. of 7 runs, 1,000 loops each)\n"
     ]
    }
   ],
   "source": [
    "%timeit X.cdf(x)  # new infrastructure"
   ],
   "metadata": {
    "collapsed": false,
    "ExecuteTime": {
     "end_time": "2024-04-22T17:09:13.419950700Z",
     "start_time": "2024-04-22T17:09:06.413265100Z"
    }
   },
   "id": "7ffb1e9e129b511f",
   "execution_count": 25
  },
  {
   "cell_type": "code",
   "outputs": [
    {
     "name": "stdout",
     "output_type": "stream",
     "text": [
      "959 µs ± 2.08 µs per loop (mean ± std. dev. of 7 runs, 1,000 loops each)\n"
     ]
    }
   ],
   "source": [
    "%timeit stats.gausshyper.cdf(x, a, b, c, z)  # old infrastructure"
   ],
   "metadata": {
    "collapsed": false,
    "ExecuteTime": {
     "end_time": "2024-04-22T17:09:21.214028300Z",
     "start_time": "2024-04-22T17:09:13.417956200Z"
    }
   },
   "id": "c5c6eb2f9a84a148",
   "execution_count": 26
  },
  {
   "cell_type": "code",
   "outputs": [
    {
     "name": "stdout",
     "output_type": "stream",
     "text": [
      "10.2 ms ± 29.5 µs per loop (mean ± std. dev. of 7 runs, 100 loops each)\n"
     ]
    }
   ],
   "source": [
    "%timeit X.icdf(x)  # new infrastructure"
   ],
   "metadata": {
    "collapsed": false,
    "ExecuteTime": {
     "end_time": "2024-04-22T17:09:29.476203200Z",
     "start_time": "2024-04-22T17:09:21.213030900Z"
    }
   },
   "id": "553d6a732fa84614",
   "execution_count": 27
  },
  {
   "cell_type": "code",
   "outputs": [
    {
     "name": "stdout",
     "output_type": "stream",
     "text": [
      "7.98 ms ± 13 µs per loop (mean ± std. dev. of 7 runs, 100 loops each)\n"
     ]
    }
   ],
   "source": [
    "%timeit stats.gausshyper.ppf(x, a, b, c, z)  # old infrastructure"
   ],
   "metadata": {
    "collapsed": false,
    "ExecuteTime": {
     "end_time": "2024-04-22T17:09:35.958511Z",
     "start_time": "2024-04-22T17:09:29.476203200Z"
    }
   },
   "id": "ef5206416beb2d61",
   "execution_count": 28
  },
  {
   "cell_type": "code",
   "outputs": [],
   "source": [
    "np.testing.assert_allclose(X.cdf(x), stats.gausshyper.cdf(x, a, b, c, z))\n",
    "np.testing.assert_allclose(X.icdf(x), stats.gausshyper.ppf(x, a, b, c, z))"
   ],
   "metadata": {
    "collapsed": false,
    "ExecuteTime": {
     "end_time": "2024-04-22T17:09:36.005794800Z",
     "start_time": "2024-04-22T17:09:35.958511Z"
    }
   },
   "id": "2c161c025a6927a4",
   "execution_count": 29
  },
  {
   "cell_type": "markdown",
   "source": [
    "But the quadrature and rootfinding code of the new infrastructure is vectorized (and eventually will be Array-API compatible), so it is much faster when arrays are involved."
   ],
   "metadata": {
    "collapsed": false
   },
   "id": "d04c76171a2ad406"
  },
  {
   "cell_type": "code",
   "outputs": [],
   "source": [
    "x = np.linspace(0, 1, 1000)"
   ],
   "metadata": {
    "collapsed": false,
    "ExecuteTime": {
     "end_time": "2024-04-22T17:09:36.008868100Z",
     "start_time": "2024-04-22T17:09:35.983229600Z"
    }
   },
   "id": "89826e8181e13e7",
   "execution_count": 30
  },
  {
   "cell_type": "code",
   "outputs": [
    {
     "name": "stdout",
     "output_type": "stream",
     "text": [
      "6.59 ms ± 97.1 µs per loop (mean ± std. dev. of 7 runs, 100 loops each)\n"
     ]
    }
   ],
   "source": [
    "%timeit X.cdf(x)  # new infrastructure"
   ],
   "metadata": {
    "collapsed": false,
    "ExecuteTime": {
     "end_time": "2024-04-22T17:09:41.380010900Z",
     "start_time": "2024-04-22T17:09:35.985728800Z"
    }
   },
   "id": "64db9452fdf042",
   "execution_count": 31
  },
  {
   "cell_type": "code",
   "outputs": [
    {
     "name": "stdout",
     "output_type": "stream",
     "text": [
      "843 ms ± 5.02 ms per loop (mean ± std. dev. of 7 runs, 1 loop each)\n"
     ]
    }
   ],
   "source": [
    "%timeit stats.gausshyper.cdf(x, a, b, c, z)  # old infrastructure"
   ],
   "metadata": {
    "collapsed": false,
    "ExecuteTime": {
     "end_time": "2024-04-22T17:09:48.138147800Z",
     "start_time": "2024-04-22T17:09:41.380010900Z"
    }
   },
   "id": "37aa5e8d338ff0f8",
   "execution_count": 32
  },
  {
   "cell_type": "code",
   "outputs": [
    {
     "name": "stdout",
     "output_type": "stream",
     "text": [
      "80.3 ms ± 642 µs per loop (mean ± std. dev. of 7 runs, 10 loops each)\n"
     ]
    }
   ],
   "source": [
    "%timeit X.icdf(x)  # new infrastructure"
   ],
   "metadata": {
    "collapsed": false,
    "ExecuteTime": {
     "end_time": "2024-04-22T17:09:54.660753800Z",
     "start_time": "2024-04-22T17:09:48.138147800Z"
    }
   },
   "id": "826d67f351f1450f",
   "execution_count": 33
  },
  {
   "cell_type": "code",
   "outputs": [
    {
     "name": "stdout",
     "output_type": "stream",
     "text": [
      "8 s ± 0 ns per loop (mean ± std. dev. of 1 run, 1 loop each)\n"
     ]
    }
   ],
   "source": [
    "# Warning: takes a long time\n",
    "%timeit -r 1 -n 1 stats.gausshyper.ppf(x, a, b, c, z)  # old infrastructure"
   ],
   "metadata": {
    "collapsed": false,
    "ExecuteTime": {
     "end_time": "2024-04-22T17:10:02.670643Z",
     "start_time": "2024-04-22T17:09:54.659756100Z"
    }
   },
   "id": "cc3639a8c25d9cfe",
   "execution_count": 34
  },
  {
   "cell_type": "markdown",
   "source": [
    "There are plans for the new infrastructure to use interpolation for additional performance gains with very large arrays."
   ],
   "metadata": {
    "collapsed": false
   },
   "id": "286bf566f1a6d322"
  },
  {
   "cell_type": "markdown",
   "source": [
    "### Distribution properties\n",
    "There new infrastructure has the distribution \"properties\" one would expect. `mode`, `skewness`, `kurtosis`, and `logentropy` are new."
   ],
   "metadata": {
    "collapsed": false
   },
   "id": "616ec775ae781135"
  },
  {
   "cell_type": "code",
   "execution_count": 35,
   "outputs": [
    {
     "data": {
      "text/plain": "(0.0, 0.0, 0.0)"
     },
     "execution_count": 35,
     "metadata": {},
     "output_type": "execute_result"
    }
   ],
   "source": [
    "X = stats.Normal()\n",
    "X.mean(), X.median(), X.mode()"
   ],
   "metadata": {
    "collapsed": false,
    "ExecuteTime": {
     "end_time": "2024-04-22T17:10:02.674845Z",
     "start_time": "2024-04-22T17:10:02.669645500Z"
    }
   },
   "id": "2761d62a0d440d5d"
  },
  {
   "cell_type": "code",
   "execution_count": 36,
   "outputs": [
    {
     "data": {
      "text/plain": "(1.0, 1.0)"
     },
     "execution_count": 36,
     "metadata": {},
     "output_type": "execute_result"
    }
   ],
   "source": [
    "X.standard_deviation(), X.variance()"
   ],
   "metadata": {
    "collapsed": false,
    "ExecuteTime": {
     "end_time": "2024-04-22T17:10:02.687402200Z",
     "start_time": "2024-04-22T17:10:02.673847900Z"
    }
   },
   "id": "5a56829847701733"
  },
  {
   "cell_type": "code",
   "execution_count": 37,
   "outputs": [
    {
     "data": {
      "text/plain": "(0.0, 3.0)"
     },
     "execution_count": 37,
     "metadata": {},
     "output_type": "execute_result"
    }
   ],
   "source": [
    "X.skewness(), X.kurtosis()  # *Pearson* kurtosis"
   ],
   "metadata": {
    "collapsed": false,
    "ExecuteTime": {
     "end_time": "2024-04-22T17:10:02.689989100Z",
     "start_time": "2024-04-22T17:10:02.680013700Z"
    }
   },
   "id": "1fd5acab1427e5cd"
  },
  {
   "cell_type": "code",
   "execution_count": 38,
   "outputs": [
    {
     "data": {
      "text/plain": "(1.4189385332046727, (0.34990908025919965+0j))"
     },
     "execution_count": 38,
     "metadata": {},
     "output_type": "execute_result"
    }
   ],
   "source": [
    "X.entropy(), X.logentropy()"
   ],
   "metadata": {
    "collapsed": false,
    "ExecuteTime": {
     "end_time": "2024-04-22T17:10:02.702993900Z",
     "start_time": "2024-04-22T17:10:02.685407700Z"
    }
   },
   "id": "d82789a8439dedb1"
  },
  {
   "cell_type": "markdown",
   "source": [
    "Note that the `logentropy` method returns a complex value because the entropy can be negative. The logarithm of a negative number is the logarithm of the number's magnitude plus an odd multiple of $\\pi i$."
   ],
   "metadata": {
    "collapsed": false
   },
   "id": "54603d725a49793"
  },
  {
   "cell_type": "code",
   "outputs": [
    {
     "data": {
      "text/plain": "(-0.019939330301691684, (-3.9150611006848894+3.141592653589793j))"
     },
     "execution_count": 39,
     "metadata": {},
     "output_type": "execute_result"
    }
   ],
   "source": [
    "Y = stats.LogUniform(a=1, b=2)\n",
    "Y.entropy(), Y.logentropy()"
   ],
   "metadata": {
    "collapsed": false,
    "ExecuteTime": {
     "end_time": "2024-04-22T17:10:02.793685300Z",
     "start_time": "2024-04-22T17:10:02.690986500Z"
    }
   },
   "id": "7b6a31e308ef63b4",
   "execution_count": 39
  },
  {
   "cell_type": "markdown",
   "source": [
    "These are implemented as methods rather than `@property`s because they accept arguments. For instance, the entropy can be computed using the analytical formula, by exponentiating the log-entropy, or by quadrature."
   ],
   "metadata": {
    "collapsed": false
   },
   "id": "b133dd97ea4268d3"
  },
  {
   "cell_type": "code",
   "outputs": [
    {
     "data": {
      "text/plain": "(1.4189385332046727, 1.4189385332046727, 1.4189385332046731)"
     },
     "execution_count": 40,
     "metadata": {},
     "output_type": "execute_result"
    }
   ],
   "source": [
    "X.entropy(), X.entropy(method='logexp'), X.entropy(method='quadrature')"
   ],
   "metadata": {
    "collapsed": false,
    "ExecuteTime": {
     "end_time": "2024-04-22T17:10:02.814156400Z",
     "start_time": "2024-04-22T17:10:02.701996800Z"
    }
   },
   "id": "f66869b8978fc9fd",
   "execution_count": 40
  },
  {
   "cell_type": "markdown",
   "source": [
    "### Distribution functions\n",
    "Functions of the distributions underlying the random variables follow a consistent naming scheme.\n",
    "- prefix `i` is for \"inverse\"\n",
    "- prefix `c` is for \"complementary\"\n",
    "- prefix `log` is for \"logarithm of\""
   ],
   "metadata": {
    "collapsed": false
   },
   "id": "11ac9788b33169d0"
  },
  {
   "cell_type": "code",
   "execution_count": 41,
   "outputs": [],
   "source": [
    "x = 1.\n",
    "np.testing.assert_allclose(X.icdf(X.cdf(x)), x)\n",
    "np.testing.assert_allclose(X.iccdf(X.ccdf(x)), x)\n",
    "np.testing.assert_allclose(X.ilogcdf(X.logcdf(x)), x)\n",
    "np.testing.assert_allclose(X.ilogccdf(X.logccdf(x)), x)"
   ],
   "metadata": {
    "collapsed": false,
    "ExecuteTime": {
     "end_time": "2024-04-22T17:10:02.817788700Z",
     "start_time": "2024-04-22T17:10:02.708628100Z"
    }
   },
   "id": "f9bb468cbe78ee13"
  },
  {
   "cell_type": "markdown",
   "source": [
    "Note the addition of new methods for the inverse of the logarithm of distribution functions. These are useful when the argument of `icdf` would be too small or too close to `1.0` to represent accurately using floating point numbers."
   ],
   "metadata": {
    "collapsed": false
   },
   "id": "9c872296fe2d2258"
  },
  {
   "cell_type": "code",
   "execution_count": 42,
   "outputs": [],
   "source": [
    "np.testing.assert_allclose(X.ilogcdf(X.logcdf(-1000.)), -1000)\n",
    "np.testing.assert_allclose(X.ilogccdf(X.logccdf(1000.)), 1000)"
   ],
   "metadata": {
    "collapsed": false,
    "ExecuteTime": {
     "end_time": "2024-04-22T17:10:02.831831400Z",
     "start_time": "2024-04-22T17:10:02.713307100Z"
    }
   },
   "id": "8a265987f2a1b9a5"
  },
  {
   "cell_type": "markdown",
   "source": [
    "The distribution methods also have two-argument versions."
   ],
   "metadata": {
    "collapsed": false
   },
   "id": "a3ccc22fa4ae3ce6"
  },
  {
   "cell_type": "code",
   "execution_count": 43,
   "outputs": [],
   "source": [
    "x1, x2 = 1., 2.\n",
    "np.testing.assert_allclose(X.cdf(x1, x2),\n",
    "                           X.cdf(x2) - X.cdf(x1))\n",
    "np.testing.assert_allclose(X.ccdf(x1, x2),\n",
    "                           1 - X.cdf(x1, x2))\n",
    "np.testing.assert_allclose(X.logcdf(x1, x2),\n",
    "                           np.log(X.cdf(x1, x2)))\n",
    "np.testing.assert_allclose(X.logccdf(x1, x2),\n",
    "                           np.log(X.ccdf(x1, x2)))"
   ],
   "metadata": {
    "collapsed": false,
    "ExecuteTime": {
     "end_time": "2024-04-22T17:10:02.833825800Z",
     "start_time": "2024-04-22T17:10:02.720903Z"
    }
   },
   "id": "f10a6436be7ccdda"
  },
  {
   "cell_type": "markdown",
   "source": [
    "Besides convenience, this avoids catastropic cancellation where possible."
   ],
   "metadata": {
    "collapsed": false
   },
   "id": "958b7469f941be91"
  },
  {
   "cell_type": "code",
   "execution_count": 44,
   "outputs": [
    {
     "data": {
      "text/plain": "(2.7535164718735247e-89, 0.0)"
     },
     "execution_count": 44,
     "metadata": {},
     "output_type": "execute_result"
    }
   ],
   "source": [
    "x1, x2 = 20., 20.5\n",
    "X.cdf(20, 20.5), X.cdf(x2) - X.cdf(x1)"
   ],
   "metadata": {
    "collapsed": false,
    "ExecuteTime": {
     "end_time": "2024-04-22T17:10:02.843108100Z",
     "start_time": "2024-04-22T17:10:02.727361400Z"
    }
   },
   "id": "d89c00e5116d4b8c"
  },
  {
   "cell_type": "markdown",
   "source": [
    "For numerically challenging cases, there are alternative `method` options available."
   ],
   "metadata": {
    "collapsed": false
   },
   "id": "54636c538c3b702a"
  },
  {
   "cell_type": "code",
   "execution_count": 45,
   "outputs": [],
   "source": [
    "eps = 1e-100\n",
    "res = X.logcdf(0., eps, method='quadrature')\n",
    "ref = X.logpdf(0.) + np.log(eps)\n",
    "np.testing.assert_equal(res, ref)"
   ],
   "metadata": {
    "collapsed": false,
    "ExecuteTime": {
     "end_time": "2024-04-22T17:10:02.985049300Z",
     "start_time": "2024-04-22T17:10:02.738564800Z"
    }
   },
   "id": "ed5fa2b90a7f4beb"
  },
  {
   "cell_type": "markdown",
   "source": [
    "All distribution functions from the old distribution infrastructure are available in the new infrastructure (albeit under different names) with the following exceptions.\n",
    "- `interval` is not available as a separate method, but the same values can be calculated using `iccdf` and `icdf`. However, the probability interval is in some sense an inverse of the two-argument `cdf`, so we could consider adding the capabilities to `icdf`.\n",
    "- `expect` will not be supported. In the old infrastructure, this was little more than a light wrapper around an integrator, and we cannot do much better in general cases. The bug report to convenience ratio was too unfavorable to justify inclusion in the new infrastructure."
   ],
   "metadata": {
    "collapsed": false
   },
   "id": "c88a08812726ffda"
  },
  {
   "cell_type": "markdown",
   "source": [
    "### Random Sampling\n",
    "Technically, \"observe\" might be a better name for this method, since instances like `X` represent a random variable. In any case, `sample` is easier to interpret than `rvs`:"
   ],
   "metadata": {
    "collapsed": false
   },
   "id": "a4b61b57321f2670"
  },
  {
   "cell_type": "code",
   "execution_count": 46,
   "outputs": [
    {
     "data": {
      "text/plain": "0.4409641775381944"
     },
     "execution_count": 46,
     "metadata": {},
     "output_type": "execute_result"
    }
   ],
   "source": [
    "X.sample()"
   ],
   "metadata": {
    "collapsed": false,
    "ExecuteTime": {
     "end_time": "2024-04-22T17:10:02.988041300Z",
     "start_time": "2024-04-22T17:10:02.743121400Z"
    }
   },
   "id": "969af810b6747cc"
  },
  {
   "cell_type": "markdown",
   "source": [
    "Currently, a Generator can be passed either during construction or when calling the `sample` method."
   ],
   "metadata": {
    "collapsed": false
   },
   "id": "2ed728ba01c88028"
  },
  {
   "cell_type": "code",
   "execution_count": 47,
   "outputs": [],
   "source": [
    "rng = np.random.default_rng(872438745698345)\n",
    "X = stats.Normal(rng=rng)\n",
    "sample1 = X.sample()\n",
    "\n",
    "rng2 = np.random.default_rng(872438745698345)\n",
    "sample2 = X.sample(rng=rng2)\n",
    "\n",
    "np.testing.assert_equal(sample1, sample2)"
   ],
   "metadata": {
    "collapsed": false,
    "ExecuteTime": {
     "end_time": "2024-04-22T17:10:03.002004100Z",
     "start_time": "2024-04-22T17:10:02.750749100Z"
    }
   },
   "id": "94e158097dc6373"
  },
  {
   "cell_type": "markdown",
   "source": [
    "The parameter that controls the shape of the sample is called `shape`."
   ],
   "metadata": {
    "collapsed": false
   },
   "id": "bf1e1c31751c7ae7"
  },
  {
   "cell_type": "code",
   "execution_count": 48,
   "outputs": [
    {
     "data": {
      "text/plain": "array([[-0.52931289,  0.88922355,  0.1664083 ],\n       [ 0.39524223,  0.30158984, -0.87769806]])"
     },
     "execution_count": 48,
     "metadata": {},
     "output_type": "execute_result"
    }
   ],
   "source": [
    "X.sample(shape=(2, 3))"
   ],
   "metadata": {
    "collapsed": false,
    "ExecuteTime": {
     "end_time": "2024-04-22T17:10:03.003998600Z",
     "start_time": "2024-04-22T17:10:02.755076100Z"
    }
   },
   "id": "21185b9af0cf6a2c"
  },
  {
   "cell_type": "markdown",
   "source": [
    "`QMCEngine`s can also be used. Each slice along the last axis is generated from an independent low-discrepancy sequence."
   ],
   "metadata": {
    "collapsed": false
   },
   "id": "1366b899f48f9064"
  },
  {
   "cell_type": "code",
   "execution_count": 49,
   "outputs": [],
   "source": [
    "qrng = stats.qmc.Halton\n",
    "n_observations = 10000\n",
    "sample1 = X.sample(shape=(n_observations,), qmc_engine=qrng)\n",
    "# Verify a property we would expect to hold exactly\n",
    "np.testing.assert_equal((sample1 > 0).sum(), n_observations/2)"
   ],
   "metadata": {
    "collapsed": false,
    "ExecuteTime": {
     "end_time": "2024-04-22T17:10:03.005993600Z",
     "start_time": "2024-04-22T17:10:02.761263300Z"
    }
   },
   "id": "66482a31e0faa1b8"
  },
  {
   "cell_type": "markdown",
   "source": [
    "An important change is that the user does not need to consider the shape of the distribution parameters when specifying the `shape` of the sample. Instead, the shape of the output array is the specified `shape` concatenated with the distribution shape."
   ],
   "metadata": {
    "collapsed": false
   },
   "id": "93a13b430549a855"
  },
  {
   "cell_type": "code",
   "execution_count": 50,
   "outputs": [
    {
     "data": {
      "text/plain": "True"
     },
     "execution_count": 50,
     "metadata": {},
     "output_type": "execute_result"
    }
   ],
   "source": [
    "n_observations = 4\n",
    "X_temp = stats.LogUniform(a=[0.5, 0.9],\n",
    "                          b=[[1], [2], [3]])\n",
    "sample = X_temp.sample(shape=n_observations)\n",
    "sample.shape == (n_observations,) + X_temp._shape"
   ],
   "metadata": {
    "collapsed": false,
    "ExecuteTime": {
     "end_time": "2024-04-22T17:10:03.020953300Z",
     "start_time": "2024-04-22T17:10:02.776643300Z"
    }
   },
   "id": "5357a662fafd529d"
  },
  {
   "cell_type": "markdown",
   "source": [
    "### Moments\n",
    "\n",
    "The `moment` method can compute raw, central, and standard moments of any order."
   ],
   "metadata": {
    "collapsed": false
   },
   "id": "94380ae1dbac08a3"
  },
  {
   "cell_type": "code",
   "execution_count": 51,
   "outputs": [
    {
     "data": {
      "text/plain": "944.9999999999995"
     },
     "execution_count": 51,
     "metadata": {},
     "output_type": "execute_result"
    }
   ],
   "source": [
    "np.testing.assert_equal(X.moment(order=1, kind='raw'),\n",
    "                        X.mean())\n",
    "np.testing.assert_equal(X.moment(order=2, kind='central'),\n",
    "                        X.variance())\n",
    "np.testing.assert_equal(X.moment(order=3, kind='standardized'),\n",
    "                        X.skewness())\n",
    "\n",
    "X.moment(order=10, kind='standardized')"
   ],
   "metadata": {
    "collapsed": false,
    "ExecuteTime": {
     "end_time": "2024-04-22T17:10:03.033918400Z",
     "start_time": "2024-04-22T17:10:02.808717800Z"
    }
   },
   "id": "668c3b69b36f4906"
  },
  {
   "cell_type": "markdown",
   "source": [
    "### Fitting\n",
    "There is a draft of a generalized `fit` method. The method would unify techniques like maximum likelihood estimation with other needs, such as inverting distribution functions with respect to distribution parameters. We begin by initializing a normal distribution."
   ],
   "metadata": {
    "collapsed": false
   },
   "id": "b0d30a0e3523bc25"
  },
  {
   "cell_type": "code",
   "outputs": [],
   "source": [
    "from scipy.stats._new_distributions import Normal\n",
    "X = Normal(mu=-1, sigma=0.5)"
   ],
   "metadata": {
    "collapsed": false,
    "ExecuteTime": {
     "end_time": "2024-04-22T17:10:03.044889400Z",
     "start_time": "2024-04-22T17:10:02.816152500Z"
    }
   },
   "id": "ee8b0f613e240b28",
   "execution_count": 52
  },
  {
   "cell_type": "markdown",
   "source": [
    "Suppose we know the desired mean and standard deviation and wish to fit the `mu` and `sigma` parameters of the distribution to achieve them."
   ],
   "metadata": {
    "collapsed": false
   },
   "id": "dc25c2386d80951e"
  },
  {
   "cell_type": "code",
   "outputs": [
    {
     "name": "stdout",
     "output_type": "stream",
     "text": [
      "0.4999999949560409 1.4999999948222957\n"
     ]
    }
   ],
   "source": [
    "parameters = ['mu', 'sigma']\n",
    "objective = {'f': lambda: [X.mean(), X.standard_deviation()],\n",
    "             'output': [0.5, 1.5]}\n",
    "X.fit(parameters, objective)\n",
    "print(X.mean(), X.standard_deviation())"
   ],
   "metadata": {
    "collapsed": false,
    "ExecuteTime": {
     "end_time": "2024-04-22T17:10:03.051870400Z",
     "start_time": "2024-04-22T17:10:02.819785100Z"
    }
   },
   "id": "4ac12091fc4ea6fe",
   "execution_count": 53
  },
  {
   "cell_type": "markdown",
   "source": [
    "Or if we know the desired values of the `pdf` and `cdf` when the argument is `0`:"
   ],
   "metadata": {
    "collapsed": false
   },
   "id": "2334484c1bcaeef8"
  },
  {
   "cell_type": "code",
   "outputs": [
    {
     "data": {
      "text/plain": "(0.5000000014883259, 0.3499999993773727)"
     },
     "execution_count": 54,
     "metadata": {},
     "output_type": "execute_result"
    }
   ],
   "source": [
    "objective = dict(f=lambda x: [X.pdf(x), X.cdf(x)],\n",
    "                 input=[0.],\n",
    "                 output=[0.5, 0.35])\n",
    "X.fit(parameters, objective)\n",
    "X.pdf(0), X.cdf(0)"
   ],
   "metadata": {
    "collapsed": false,
    "ExecuteTime": {
     "end_time": "2024-04-22T17:10:03.066830800Z",
     "start_time": "2024-04-22T17:10:02.838120500Z"
    }
   },
   "id": "b85ee31c07b1924b",
   "execution_count": 54
  },
  {
   "cell_type": "markdown",
   "source": [
    "Of course, we can still perform maximum likelihood optimization."
   ],
   "metadata": {
    "collapsed": false
   },
   "id": "d3d8e404bc5ec310"
  },
  {
   "cell_type": "code",
   "outputs": [
    {
     "data": {
      "text/plain": "(0.32331186434434367, 0.7563037248012252)"
     },
     "execution_count": 55,
     "metadata": {},
     "output_type": "execute_result"
    }
   ],
   "source": [
    "data = X.sample(1000, rng=rng)\n",
    "objective = dict(f=X.llf, input=(data,))\n",
    "X.fit(parameters, objective)\n",
    "X.mu, X.sigma"
   ],
   "metadata": {
    "collapsed": false,
    "ExecuteTime": {
     "end_time": "2024-04-22T17:10:03.068825700Z",
     "start_time": "2024-04-22T17:10:02.864374300Z"
    }
   },
   "id": "454539b6026961",
   "execution_count": 55
  },
  {
   "cell_type": "markdown",
   "source": [
    "Currently, `fit` relies entirely on generic optimization procedures. In future work, the behavior can be overridden depending on the distribution, parameters, and objectives.."
   ],
   "metadata": {
    "collapsed": false
   },
   "id": "bc1710fa260f16db"
  },
  {
   "cell_type": "markdown",
   "source": [
    "### Visualization\n",
    "\n",
    "We can visualize the results of the fit above using the convenience method, `plot`."
   ],
   "metadata": {
    "collapsed": false
   },
   "id": "a7e4ec232384701e"
  },
  {
   "cell_type": "code",
   "outputs": [
    {
     "data": {
      "text/plain": "<Figure size 640x480 with 1 Axes>",
      "image/png": "[encoded data removed]"
     },
     "metadata": {},
     "output_type": "display_data"
    }
   ],
   "source": [
    "import matplotlib.pyplot as plt\n",
    "ax = X.plot()\n",
    "ax = plt.hist(data, density=True, alpha=0.5, bins=50)"
   ],
   "metadata": {
    "collapsed": false,
    "ExecuteTime": {
     "end_time": "2024-04-22T17:10:03.430932100Z",
     "start_time": "2024-04-22T17:10:02.871353900Z"
    }
   },
   "id": "c5cc49cd89576a56",
   "execution_count": 56
  },
  {
   "cell_type": "code",
   "outputs": [
    {
     "data": {
      "text/plain": "<Axes: title={'center': 'Normal(mu=[1. 2. 3.], sigma=[1. 2. 3.], shape=(3,))'}, xlabel='x', ylabel='cdf'>"
     },
     "execution_count": 57,
     "metadata": {},
     "output_type": "execute_result"
    },
    {
     "data": {
      "text/plain": "<Figure size 640x480 with 1 Axes>",
      "image/png": "[encoded data removed]"
     },
     "metadata": {},
     "output_type": "display_data"
    }
   ],
   "source": [
    "X = stats.Normal(mu=[1, 2, 3], sigma=[1, 2, 3])\n",
    "X.plot(y='cdf')"
   ],
   "metadata": {
    "collapsed": false,
    "ExecuteTime": {
     "end_time": "2024-04-22T17:10:03.595141700Z",
     "start_time": "2024-04-22T17:10:03.429934700Z"
    }
   },
   "id": "512c256dd8d0cf3e",
   "execution_count": 57
  },
  {
   "cell_type": "markdown",
   "source": [
    "The `plot` method is relatively flexible, with a signature inspired by grammar of graphics. For instance, with the argument `x` on [-10, 10], plot the `pdf` against the `cdf`. "
   ],
   "metadata": {
    "collapsed": false
   },
   "id": "d7176a7e55a19bc0"
  },
  {
   "cell_type": "code",
   "outputs": [
    {
     "data": {
      "text/plain": "<Axes: title={'center': 'Normal(mu=[1. 2. 3.], sigma=[1. 2. 3.], shape=(3,))'}, xlabel='cdf', ylabel='pdf'>"
     },
     "execution_count": 58,
     "metadata": {},
     "output_type": "execute_result"
    },
    {
     "data": {
      "text/plain": "<Figure size 640x480 with 1 Axes>",
      "image/png": "[encoded data removed]"
     },
     "metadata": {},
     "output_type": "display_data"
    }
   ],
   "source": [
    "X.plot('cdf', 'pdf', t=('x', -10, 10))"
   ],
   "metadata": {
    "collapsed": false,
    "ExecuteTime": {
     "end_time": "2024-04-22T17:10:03.763050200Z",
     "start_time": "2024-04-22T17:10:03.594144400Z"
    }
   },
   "id": "495124dd56043827",
   "execution_count": 58
  },
  {
   "cell_type": "markdown",
   "source": [
    "### Order statistics distributions\n",
    "There is draft support for distributions of [order statistics](https://en.wikipedia.org/wiki/Order_statistic) of distributions, partially to demonstrate the flexibility of distribution transformations. For example, we can plot the probability density functions of the order statistics of a normal distribution with sample size 4."
   ],
   "metadata": {
    "collapsed": false
   },
   "id": "433736dc830e43ba"
  },
  {
   "cell_type": "code",
   "outputs": [
    {
     "data": {
      "text/plain": "<Axes: title={'center': 'StandardNormal(n, r, shape=(4,))'}, xlabel='x', ylabel='pdf'>"
     },
     "execution_count": 59,
     "metadata": {},
     "output_type": "execute_result"
    },
    {
     "data": {
      "text/plain": "<Figure size 640x480 with 1 Axes>",
      "image/png": "[encoded data removed]"
     },
     "metadata": {},
     "output_type": "display_data"
    }
   ],
   "source": [
    "from scipy.stats._new_distributions import OrderStatisticDistribution\n",
    "n = 4\n",
    "r = np.arange(1, n+1)\n",
    "X = stats.Normal()\n",
    "Y = OrderStatisticDistribution(X, r=r, n=n)\n",
    "Y.plot()"
   ],
   "metadata": {
    "collapsed": false,
    "ExecuteTime": {
     "end_time": "2024-04-22T17:10:03.995149500Z",
     "start_time": "2024-04-22T17:10:03.765045100Z"
    }
   },
   "id": "a88f7887cfbf96e2",
   "execution_count": 59
  },
  {
   "cell_type": "markdown",
   "source": [
    "Compute the expected values of these order statistics."
   ],
   "metadata": {
    "collapsed": false
   },
   "id": "69eafc1013cdef5d"
  },
  {
   "cell_type": "code",
   "outputs": [
    {
     "data": {
      "text/plain": "array([-1.02937537, -0.29701138,  0.29701138,  1.02937537])"
     },
     "execution_count": 60,
     "metadata": {},
     "output_type": "execute_result"
    }
   ],
   "source": [
    "Y.mean()"
   ],
   "metadata": {
    "collapsed": false,
    "ExecuteTime": {
     "end_time": "2024-04-22T17:10:04.002043300Z",
     "start_time": "2024-04-22T17:10:03.996146700Z"
    }
   },
   "id": "5ace78c0ee084b0d",
   "execution_count": 60
  },
  {
   "cell_type": "markdown",
   "source": [
    "The `OrderStatisticDistribution` can be shifted and scaled, or we can generate an `OrderStatsticDistribution` from a shifted and scaled distribution. (In this case, the order of operations doesn't matter, but that is not the case for all transformations.)"
   ],
   "metadata": {
    "collapsed": false
   },
   "id": "31bcef789921995a"
  },
  {
   "cell_type": "code",
   "outputs": [],
   "source": [
    "loc, scale= 1, 2\n",
    "Y1 = stats.ShiftedScaledDistribution(OrderStatisticDistribution(stats.Normal(), r=r, n=n), loc=loc, scale=scale)\n",
    "Y2 = OrderStatisticDistribution(stats.ShiftedScaledDistribution(stats.Normal(), loc=loc, scale=scale), r=r, n=n)\n",
    "np.testing.assert_allclose(Y1.mean(), Y.mean()*scale+loc)\n",
    "np.testing.assert_allclose(Y2.mean(), Y.mean()*scale+loc)"
   ],
   "metadata": {
    "collapsed": false,
    "ExecuteTime": {
     "end_time": "2024-04-22T17:10:04.014211300Z",
     "start_time": "2024-04-22T17:10:04.003042Z"
    }
   },
   "id": "691fedff38142822",
   "execution_count": 61
  }
 ],
 "metadata": {
  "kernelspec": {
   "display_name": "Python 3",
   "language": "python",
   "name": "python3"
  },
  "language_info": {
   "codemirror_mode": {
    "name": "ipython",
    "version": 2
   },
   "file_extension": ".py",
   "mimetype": "text/x-python",
   "name": "python",
   "nbconvert_exporter": "python",
   "pygments_lexer": "ipython2",
   "version": "2.7.6"
  }
 },
 "nbformat": 4,
 "nbformat_minor": 5
}
