{
 "cells": [
  {
   "cell_type": "markdown",
   "source": [
    "Some of SciPy's linear algebra functions support N-dimensional array input. These operations have not been mathematically generalized to higher-order tensors; rather, the indicated operation is performed on a *batch* (or \"stack\") of input scalars, vectors, and/or matrices.\n",
    "\n",
    "Consider the `linalg.det` function, which maps a matrix to a scalar."
   ],
   "metadata": {
    "collapsed": false
   },
   "id": "8573768a7ac5e897"
  },
  {
   "cell_type": "code",
   "outputs": [
    {
     "data": {
      "text/plain": "np.float64(1.0)"
     },
     "execution_count": 1,
     "metadata": {},
     "output_type": "execute_result"
    }
   ],
   "source": [
    "import numpy as np\n",
    "from scipy import linalg\n",
    "A = np.eye(3)\n",
    "linalg.det(A)"
   ],
   "metadata": {
    "collapsed": false,
    "ExecuteTime": {
     "end_time": "2024-08-27T20:18:54.292412200Z",
     "start_time": "2024-08-27T20:18:53.190928600Z"
    }
   },
   "id": "e833f7a5ebc87745",
   "execution_count": 1
  },
  {
   "cell_type": "markdown",
   "source": [
    "Sometimes we need the determinant of a batch of matrices of the same dimensionality."
   ],
   "metadata": {
    "collapsed": false
   },
   "id": "95521ba581baa1a1"
  },
  {
   "cell_type": "code",
   "outputs": [
    {
     "data": {
      "text/plain": "[array([[1., 0., 0.],\n        [0., 1., 0.],\n        [0., 0., 1.]]),\n array([[2., 0., 0.],\n        [0., 2., 0.],\n        [0., 0., 2.]]),\n array([[3., 0., 0.],\n        [0., 3., 0.],\n        [0., 0., 3.]])]"
     },
     "execution_count": 2,
     "metadata": {},
     "output_type": "execute_result"
    }
   ],
   "source": [
    "batch = [i*np.eye(3) for i in range(1, 4)]\n",
    "batch"
   ],
   "metadata": {
    "collapsed": false,
    "ExecuteTime": {
     "end_time": "2024-08-27T20:18:54.298439400Z",
     "start_time": "2024-08-27T20:18:54.294428700Z"
    }
   },
   "id": "fbe4426ae4fd287e",
   "execution_count": 2
  },
  {
   "cell_type": "markdown",
   "source": [
    "We could perform the operation for each element of the batch in a loop or list comprehension:"
   ],
   "metadata": {
    "collapsed": false
   },
   "id": "5b19e12372b7a56f"
  },
  {
   "cell_type": "code",
   "outputs": [
    {
     "data": {
      "text/plain": "[np.float64(1.0), np.float64(8.0), np.float64(27.0)]"
     },
     "execution_count": 3,
     "metadata": {},
     "output_type": "execute_result"
    }
   ],
   "source": [
    "[linalg.det(A) for A in batch]"
   ],
   "metadata": {
    "collapsed": false,
    "ExecuteTime": {
     "end_time": "2024-08-27T20:18:54.310461400Z",
     "start_time": "2024-08-27T20:18:54.298439400Z"
    }
   },
   "id": "5a0bd89768998a40",
   "execution_count": 3
  },
  {
   "cell_type": "markdown",
   "source": [
    "However, just as we might use NumPy broadcasting and vectorization rules to create the batch of matrices in the first place:"
   ],
   "metadata": {
    "collapsed": false
   },
   "id": "8cc3fa0ac1632546"
  },
  {
   "cell_type": "code",
   "outputs": [
    {
     "data": {
      "text/plain": "array([[[1., 0., 0.],\n        [0., 1., 0.],\n        [0., 0., 1.]],\n\n       [[2., 0., 0.],\n        [0., 2., 0.],\n        [0., 0., 2.]],\n\n       [[3., 0., 0.],\n        [0., 3., 0.],\n        [0., 0., 3.]]])"
     },
     "execution_count": 4,
     "metadata": {},
     "output_type": "execute_result"
    }
   ],
   "source": [
    "i = np.arange(1, 4).reshape(-1, 1, 1)\n",
    "batch = i * np.eye(3)\n",
    "batch"
   ],
   "metadata": {
    "collapsed": false,
    "ExecuteTime": {
     "end_time": "2024-08-27T20:18:54.311465300Z",
     "start_time": "2024-08-27T20:18:54.306349100Z"
    }
   },
   "id": "321353aef85dbd7a",
   "execution_count": 4
  },
  {
   "cell_type": "markdown",
   "source": [
    "we might also wish to perform the determinant operation on all of the matrices in one function call."
   ],
   "metadata": {
    "collapsed": false
   },
   "id": "560e11bea2ed60b"
  },
  {
   "cell_type": "code",
   "outputs": [
    {
     "data": {
      "text/plain": "array([ 1.,  8., 27.])"
     },
     "execution_count": 5,
     "metadata": {},
     "output_type": "execute_result"
    }
   ],
   "source": [
    "linalg.det(batch)"
   ],
   "metadata": {
    "collapsed": false,
    "ExecuteTime": {
     "end_time": "2024-08-27T20:18:54.361736600Z",
     "start_time": "2024-08-27T20:18:54.313532400Z"
    }
   },
   "id": "46722f2acd366632",
   "execution_count": 5
  },
  {
   "cell_type": "markdown",
   "source": [
    "In SciPy, we prefer the term \"batch\" instead of \"stack\" because the idea is generalized to N-dimensional batches. Suppose the input is a 2 x 4 batch of 3 x 3 matrices."
   ],
   "metadata": {
    "collapsed": false
   },
   "id": "dd8beb83035bc345"
  },
  {
   "cell_type": "code",
   "outputs": [],
   "source": [
    "batch_shape = (2, 4)\n",
    "i = np.arange(np.prod(batch_shape)).reshape(*batch_shape, 1, 1)\n",
    "input = i * np.eye(3)"
   ],
   "metadata": {
    "collapsed": false,
    "ExecuteTime": {
     "end_time": "2024-08-27T20:18:54.362734400Z",
     "start_time": "2024-08-27T20:18:54.318271200Z"
    }
   },
   "id": "8effa3b123594fb2",
   "execution_count": 6
  },
  {
   "cell_type": "markdown",
   "source": [
    "In this case, we say that the *batch shape* is `(2, 4)`, and the *core shape* of the input is `(3, 3)`. The net shape of the input is the sum (concatenation) of the batch shape and core shape."
   ],
   "metadata": {
    "collapsed": false
   },
   "id": "a3cdb47795379f66"
  },
  {
   "cell_type": "code",
   "outputs": [
    {
     "data": {
      "text/plain": "(2, 4, 3, 3)"
     },
     "execution_count": 7,
     "metadata": {},
     "output_type": "execute_result"
    }
   ],
   "source": [
    "input.shape"
   ],
   "metadata": {
    "collapsed": false,
    "ExecuteTime": {
     "end_time": "2024-08-27T20:18:54.363731900Z",
     "start_time": "2024-08-27T20:18:54.324759800Z"
    }
   },
   "id": "288ce3f3326441fb",
   "execution_count": 7
  },
  {
   "cell_type": "markdown",
   "source": [
    "Since each 3 x 3 matrix is converted to a zero-dimensional scalar, we say that the core shape of the outuput is `()`. The shape of the output is the sum of the batch shape and core shape, so the result is a 2 x 4 array."
   ],
   "metadata": {
    "collapsed": false
   },
   "id": "aad4d502204e1288"
  },
  {
   "cell_type": "code",
   "outputs": [
    {
     "data": {
      "text/plain": "array([ 1.,  8., 27.])"
     },
     "execution_count": 8,
     "metadata": {},
     "output_type": "execute_result"
    }
   ],
   "source": [
    "output = linalg.det(batch)\n",
    "output"
   ],
   "metadata": {
    "collapsed": false,
    "ExecuteTime": {
     "end_time": "2024-08-27T20:18:54.364728900Z",
     "start_time": "2024-08-27T20:18:54.330894200Z"
    }
   },
   "id": "faf91a5c7a7d4dbe",
   "execution_count": 8
  },
  {
   "cell_type": "code",
   "outputs": [
    {
     "data": {
      "text/plain": "(3,)"
     },
     "execution_count": 9,
     "metadata": {},
     "output_type": "execute_result"
    }
   ],
   "source": [
    "output.shape"
   ],
   "metadata": {
    "collapsed": false,
    "ExecuteTime": {
     "end_time": "2024-08-27T20:18:54.365526800Z",
     "start_time": "2024-08-27T20:18:54.336065400Z"
    }
   },
   "id": "1adffaabab05f935",
   "execution_count": 9
  },
  {
   "cell_type": "markdown",
   "source": [
    "Not all linear algebra functions map to scalars. For instance, the `linalg.expm` function maps from a matrix to a matrix with the same shape."
   ],
   "metadata": {
    "collapsed": false
   },
   "id": "5061f727ee377724"
  },
  {
   "cell_type": "code",
   "outputs": [
    {
     "data": {
      "text/plain": "array([[2.71828183, 0.        , 0.        ],\n       [0.        , 2.71828183, 0.        ],\n       [0.        , 0.        , 2.71828183]])"
     },
     "execution_count": 10,
     "metadata": {},
     "output_type": "execute_result"
    }
   ],
   "source": [
    "A = np.eye(3)\n",
    "linalg.expm(A)"
   ],
   "metadata": {
    "collapsed": false,
    "ExecuteTime": {
     "end_time": "2024-08-27T20:18:54.418118700Z",
     "start_time": "2024-08-27T20:18:54.342714Z"
    }
   },
   "id": "561b4b1374280763",
   "execution_count": 10
  },
  {
   "cell_type": "markdown",
   "source": [
    "In this case, the core shape of the output is `(3, 3)`, so with a batch shape of `(2, 4)`, we expect an output of shape `(2, 4, 3, 3)`."
   ],
   "metadata": {
    "collapsed": false
   },
   "id": "97d6b3ed5f94b971"
  },
  {
   "cell_type": "code",
   "outputs": [
    {
     "data": {
      "text/plain": "(2, 4, 3, 3)"
     },
     "execution_count": 11,
     "metadata": {},
     "output_type": "execute_result"
    }
   ],
   "source": [
    "output = linalg.expm(input)\n",
    "output.shape"
   ],
   "metadata": {
    "collapsed": false,
    "ExecuteTime": {
     "end_time": "2024-08-27T20:18:54.418118700Z",
     "start_time": "2024-08-27T20:18:54.349361300Z"
    }
   },
   "id": "b3362176a031c481",
   "execution_count": 11
  },
  {
   "cell_type": "markdown",
   "source": [
    "Generalization of these rules to functions with multiple inputs and outputs is straightforward. For instance, the `linalg.eig` function produces two outputs by default, a vector and a matrix."
   ],
   "metadata": {
    "collapsed": false
   },
   "id": "a80f3277c7169c3f"
  },
  {
   "cell_type": "code",
   "outputs": [
    {
     "data": {
      "text/plain": "((3,), (3, 3))"
     },
     "execution_count": 12,
     "metadata": {},
     "output_type": "execute_result"
    }
   ],
   "source": [
    "evals, evecs = linalg.eig(A)\n",
    "evals.shape, evecs.shape"
   ],
   "metadata": {
    "collapsed": false,
    "ExecuteTime": {
     "end_time": "2024-08-27T20:18:54.419137Z",
     "start_time": "2024-08-27T20:18:54.354605600Z"
    }
   },
   "id": "de08e9c4c2cacdf7",
   "execution_count": 12
  },
  {
   "cell_type": "markdown",
   "source": [
    "In this case, the core shape of the output vector is `(3,)` and the core shape of the output matrix is `(3, 3)`. The shape of each output is the batch shape plus the core shape as before."
   ],
   "metadata": {
    "collapsed": false
   },
   "id": "db342d78f0b8ebb2"
  },
  {
   "cell_type": "code",
   "outputs": [
    {
     "data": {
      "text/plain": "((2, 4, 3), (2, 4, 3, 3))"
     },
     "execution_count": 13,
     "metadata": {},
     "output_type": "execute_result"
    }
   ],
   "source": [
    "evals, evecs = linalg.eig(input)\n",
    "evals.shape, evecs.shape"
   ],
   "metadata": {
    "collapsed": false,
    "ExecuteTime": {
     "end_time": "2024-08-27T20:18:54.422312200Z",
     "start_time": "2024-08-27T20:18:54.360635200Z"
    }
   },
   "id": "4c74273ee1d7cc2",
   "execution_count": 13
  },
  {
   "cell_type": "markdown",
   "source": [
    "When there is more than one input, there is no complication if the input shapes are identical."
   ],
   "metadata": {
    "collapsed": false
   },
   "id": "11f4b43f9a8a821e"
  },
  {
   "cell_type": "code",
   "outputs": [
    {
     "data": {
      "text/plain": "((2, 4, 3), (2, 4, 3, 3))"
     },
     "execution_count": 14,
     "metadata": {},
     "output_type": "execute_result"
    }
   ],
   "source": [
    "evals, evecs = linalg.eig(input, b=input)\n",
    "evals.shape, evecs.shape"
   ],
   "metadata": {
    "collapsed": false,
    "ExecuteTime": {
     "end_time": "2024-08-27T20:18:54.431526500Z",
     "start_time": "2024-08-27T20:18:54.369612200Z"
    }
   },
   "id": "77a14f766c305dd1",
   "execution_count": 14
  },
  {
   "cell_type": "markdown",
   "source": [
    "The rules when the shapes are not identical follow logically enough. Each input can have its own batch shape as long as the shapes are broadcastable according to NumPy's broadcasting rules. The net batch shape is the broadcasted shape of the individual batch shapes, and the shape of each output is the net batch shape plus its core shape."
   ],
   "metadata": {
    "collapsed": false
   },
   "id": "61d4bcd4a4de5178"
  },
  {
   "cell_type": "code",
   "outputs": [
    {
     "data": {
      "text/plain": "((5, 2, 4, 3), (5, 2, 4, 3, 3))"
     },
     "execution_count": 15,
     "metadata": {},
     "output_type": "execute_result"
    }
   ],
   "source": [
    "rng = np.random.default_rng(2859239482)\n",
    "m = 3\n",
    "\n",
    "batch_shape_a = (2, 4)\n",
    "batch_shape_b = (5, 1, 4)\n",
    "\n",
    "core_shape_a = (m, m)\n",
    "core_shape_b = (m, m)\n",
    "\n",
    "net_batch_shape = np.broadcast_shapes(batch_shape_a, batch_shape_b)\n",
    "\n",
    "input_a = rng.random(batch_shape_a + core_shape_a)\n",
    "input_b = rng.random(batch_shape_b + core_shape_b)\n",
    "\n",
    "core_shape_evals = (m,)\n",
    "core_shape_evecs = (m, m)\n",
    "\n",
    "output_shape_evals = net_batch_shape + core_shape_evals\n",
    "output_shape_evecs = net_batch_shape + core_shape_evecs\n",
    "output_shape_evals, output_shape_evecs"
   ],
   "metadata": {
    "collapsed": false,
    "ExecuteTime": {
     "end_time": "2024-08-27T20:18:54.432561400Z",
     "start_time": "2024-08-27T20:18:54.375552300Z"
    }
   },
   "id": "86eb67cdf921dc73",
   "execution_count": 15
  },
  {
   "cell_type": "code",
   "outputs": [
    {
     "data": {
      "text/plain": "((5, 2, 4, 3), (5, 2, 4, 3, 3))"
     },
     "execution_count": 16,
     "metadata": {},
     "output_type": "execute_result"
    }
   ],
   "source": [
    "evals, evecs = linalg.eig(input_a, b=input_b)\n",
    "evals.shape, evecs.shape"
   ],
   "metadata": {
    "collapsed": false,
    "ExecuteTime": {
     "end_time": "2024-08-27T20:18:54.432561400Z",
     "start_time": "2024-08-27T20:18:54.380623100Z"
    }
   },
   "id": "7df3e62dbec81a3c",
   "execution_count": 16
  }
 ],
 "metadata": {
  "kernelspec": {
   "display_name": "Python 3",
   "language": "python",
   "name": "python3"
  },
  "language_info": {
   "codemirror_mode": {
    "name": "ipython",
    "version": 2
   },
   "file_extension": ".py",
   "mimetype": "text/x-python",
   "name": "python",
   "nbconvert_exporter": "python",
   "pygments_lexer": "ipython2",
   "version": "2.7.6"
  }
 },
 "nbformat": 4,
 "nbformat_minor": 5
}
